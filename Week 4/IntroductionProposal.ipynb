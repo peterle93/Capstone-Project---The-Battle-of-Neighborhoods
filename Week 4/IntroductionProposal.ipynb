{
 "metadata": {
  "language_info": {
   "codemirror_mode": {
    "name": "ipython",
    "version": 3
   },
   "file_extension": ".py",
   "mimetype": "text/x-python",
   "name": "python",
   "nbconvert_exporter": "python",
   "pygments_lexer": "ipython3",
   "version": "3.8.3-final"
  },
  "orig_nbformat": 2,
  "kernelspec": {
   "name": "python3",
   "display_name": "Python 3"
  }
 },
 "nbformat": 4,
 "nbformat_minor": 2,
 "cells": [
  {
   "source": [
    "**The Battle of Neighborhoods - Week 1 - Introduction/Business Proposal**"
   ],
   "cell_type": "markdown",
   "metadata": {}
  },
  {
   "source": [
    "**Introduction:**"
   ],
   "cell_type": "markdown",
   "metadata": {}
  },
  {
   "source": [
    "The purpose of this project is to assist people in researching the most optimal and resourceful locations near their neighborhood. It will provide the necessary information in making the best decision on selecting the neighborhood you would like to live in.\n",
    "\n",
    "Many people move into parts of Canada and need tons of prior research dealing with factors such as suitable housing prices, well-known schools for their children, and so on. This project will focus on people who are interested in looking for better neighborhoods with many factors including accessing nearby cafes, schools, supermarkets, pharmacies, malls, hospitals, etc.\n",
    "\n",
    "The aim is to create an analysis of features for people migrating specifically to the city **Center Toronto, Ontario** searching for the best neighborhood as a comparative analysis between other neighborhoods. The features include median housing price and better school according to ratings, crime rates in the particular area, road connectivity, weather conditions, good management for emergency, recreational facilities, etc.\n",
    "\n",
    "This will help people to gain awareness of the area and neighborhood before moving to a new city and prepare them for their new work or fresh life ahead."
   ],
   "cell_type": "markdown",
   "metadata": {}
  },
  {
   "source": [
    "**The Problem to be Solved:**\n"
   ],
   "cell_type": "markdown",
   "metadata": {}
  },
  {
   "source": [
    "The main purpose of this project is to suggest a better neighborhood in a new city for the person who is moving there. Importants essentials, convenience of locations such as bus stands, markets, city centers, gas stations and other daily needs must be nearby.\n",
    "\n",
    "1. List of nearby venues, latitude and longitudes of postal codes (Four-square API as its prime data gathering source as it has a database of millions of places, especially their places API which provides the ability to perform location search, location sharing and details about a business.)\n",
    "1. Sorted list of house in terms of housing prices in a ascending or descending order\n",
    "2. Sorted list of schools in terms of location, fees, rating and reviews"
   ],
   "cell_type": "markdown",
   "metadata": {}
  },
  {
   "source": [
    "**The Location:**"
   ],
   "cell_type": "markdown",
   "metadata": {}
  },
  {
   "source": [
    "Center Toronto is a popular destination for new immigrants coming to Canada. As a result, it is one of the most diverse and multicultural areas in the Greater Toronto Area, being home to various religious groups and places of worship. Although immigration has become a hot topic over the past few years with more governments seeking more restrictions on immigrants and refugees, the general trend of immigration into Canada has been one of on the rise."
   ],
   "cell_type": "markdown",
   "metadata": {}
  },
  {
   "source": [
    "Clustering Approach: K-means clustering algorithm"
   ],
   "cell_type": "markdown",
   "metadata": {}
  },
  {
   "source": [
    "In order to identify the similaries of the cities, segment them, and group them into clusters to find similar neighborhoods in a big city such New York and Toronto. We need to cluster data which is a form of unsupervised machine learning: k-means clustering algorithm."
   ],
   "cell_type": "markdown",
   "metadata": {}
  },
  {
   "source": [
    "**Libraries Used:**"
   ],
   "cell_type": "markdown",
   "metadata": {}
  },
  {
   "source": [
    "Pandas: For creating and manipulating dataframes.\n",
    "\n",
    "Folium: Python visualization library would be used to visualize the neighborhoods cluster distribution of using interactive leaflet map.\n",
    "\n",
    "Scikit Learn: For importing k-means clustering.\n",
    "\n",
    "JSON: Library to handle JSON files.\n",
    "\n",
    "XML: To separate data from presentation and XML stores data in plain text format.\n",
    "\n",
    "Geocoder: To retrieve Location Data.\n",
    "\n",
    "Beautiful Soup and Requests: To scrap and library to handle http requests.\n",
    "\n",
    "Matplotlib: Python Plotting Module."
   ],
   "cell_type": "markdown",
   "metadata": {}
  }
 ]
}